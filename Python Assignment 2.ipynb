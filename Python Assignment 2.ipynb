{
 "cells": [
  {
   "cell_type": "code",
   "execution_count": 5,
   "metadata": {},
   "outputs": [
    {
     "name": "stdout",
     "output_type": "stream",
     "text": [
      "enter marks out of 100 79\n",
      "enter marks out of 100 84\n",
      "enter marks out of 100 88\n",
      "enter marks out of 100 81\n",
      "enter marks out of 100 83\n",
      "totalmarks = 415\n",
      "percentage = 83.0\n",
      "grade A+\n"
     ]
    }
   ],
   "source": [
    "#QUESTION NO .1\n",
    "marks=[]\n",
    "totalmarks=0;\n",
    "for i in range (5):\n",
    "    x=int(input(\"enter marks out of 100 \"))\n",
    "  \n",
    "    marks.append(x)\n",
    "    totalmarks+=x\n",
    "print(\"totalmarks =\",totalmarks)  \n",
    "percentage=(totalmarks/500)*100\n",
    "print(\"percentage =\",percentage)\n",
    "if percentage>=80 and percentage < 100:\n",
    "    print(\"grade A+\")\n",
    "elif percentage >= 70 and percentage < 80:\n",
    "    print(\"grade A\")\n",
    "elif percentage >= 60 and percentage  < 70:\n",
    "    print(\"grade B\")    \n",
    "elif percentage >= 50 and percentage < 60:\n",
    "    print(\"grade C\")\n",
    "elif percentage >= 33 and percentage < 50:\n",
    "    print(\"grade D\")\n",
    "elif percentage >= 0 and percentage  < 33:\n",
    "    print(\"FAIL\")\n",
    "else :\n",
    "    print (\"You have given an inappropiate percentage\")"
   ]
  },
  {
   "cell_type": "code",
   "execution_count": 11,
   "metadata": {},
   "outputs": [
    {
     "name": "stdout",
     "output_type": "stream",
     "text": [
      "Enter your number7\n",
      "Odd no\n"
     ]
    }
   ],
   "source": [
    "#QUESTION NO .2\n",
    "x=int(input(\"Enter your number\"))\n",
    "if x%2==0:\n",
    "    print(\"Even no\")\n",
    "else:\n",
    "    print(\"Odd no\")"
   ]
  },
  {
   "cell_type": "code",
   "execution_count": 12,
   "metadata": {},
   "outputs": [
    {
     "name": "stdout",
     "output_type": "stream",
     "text": [
      "7\n"
     ]
    }
   ],
   "source": [
    "#QUESTION NO .3\n",
    "list=[27,33,39,52,62,79,83]\n",
    "print(len(list))"
   ]
  },
  {
   "cell_type": "code",
   "execution_count": 13,
   "metadata": {},
   "outputs": [
    {
     "name": "stdout",
     "output_type": "stream",
     "text": [
      "sum of list= 122\n"
     ]
    }
   ],
   "source": [
    "#QUESTION NO .4\n",
    "list=[12,24,42,17,11,16]\n",
    "x=len(list)\n",
    "total=0\n",
    "for i in range (x):\n",
    "    total+=list[i]\n",
    "print(\"sum of list=\",total)"
   ]
  },
  {
   "cell_type": "code",
   "execution_count": 14,
   "metadata": {},
   "outputs": [
    {
     "name": "stdout",
     "output_type": "stream",
     "text": [
      "93\n"
     ]
    }
   ],
   "source": [
    "#QUESTION NO .5\n",
    "list=[19,23,43,93,34,92,11]\n",
    "print(max(list))"
   ]
  },
  {
   "cell_type": "code",
   "execution_count": 17,
   "metadata": {},
   "outputs": [
    {
     "name": "stdout",
     "output_type": "stream",
     "text": [
      "1\n",
      "1\n",
      "2\n",
      "3\n"
     ]
    }
   ],
   "source": [
    "#QUESTION NO .6\n",
    "list=[1,1,2,3,5,8,13,21,34,55,89]\n",
    "x=len(list)\n",
    "for i in range(x):\n",
    "    if list[i]<5:\n",
    "        print(list[i])"
   ]
  }
 ],
 "metadata": {
  "kernelspec": {
   "display_name": "Python 3",
   "language": "python",
   "name": "python3"
  },
  "language_info": {
   "codemirror_mode": {
    "name": "ipython",
    "version": 3
   },
   "file_extension": ".py",
   "mimetype": "text/x-python",
   "name": "python",
   "nbconvert_exporter": "python",
   "pygments_lexer": "ipython3",
   "version": "3.7.4"
  }
 },
 "nbformat": 4,
 "nbformat_minor": 2
}
