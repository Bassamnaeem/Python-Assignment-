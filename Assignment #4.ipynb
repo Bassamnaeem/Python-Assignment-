{
 "cells": [
  {
   "cell_type": "code",
   "execution_count": 44,
   "metadata": {},
   "outputs": [
    {
     "name": "stdout",
     "output_type": "stream",
     "text": [
      "{'first_name': 'Bassam', 'last_name': 'Naeem', 'age': '18', 'city': 'Karachi'}\n",
      "{'first_name': 'Bassam', 'last_name': 'Naeem', 'age': '18', 'city': 'Karachi', 'Qualification': 'matric'}\n",
      "{'first_name': 'Bassam', 'last_name': 'Naeem', 'age': '18', 'city': 'Karachi', 'Qualification': 'Intermediate'}\n",
      "{'first_name': 'Bassam', 'last_name': 'Naeem', 'age': '18', 'city': 'Karachi'}\n"
     ]
    }
   ],
   "source": [
    "#Question 1\n",
    "dict = { 'first_name':'Bassam','last_name':'Naeem','age': '18','city': 'Karachi'}\n",
    "print(dict)\n",
    "dict['Qualification'] = 'matric'\n",
    "print (dict)\n",
    "dict.update({'Qualification':'Intermediate'})\n",
    "print(dict)\n",
    "del dict['Qualification']\n",
    "print(dict)"
   ]
  },
  {
   "cell_type": "code",
   "execution_count": 48,
   "metadata": {},
   "outputs": [
    {
     "name": "stdout",
     "output_type": "stream",
     "text": [
      "\n",
      "Karachi\n",
      "\n",
      "Country : Pakistan\n",
      "Population : 15 Million\n",
      "Fact : Economical Hub\n",
      "\n",
      "New york\n",
      "\n",
      "Country : United States\n",
      "Population : 19 Millions\n",
      "Fact : largest city of the US\n",
      "\n",
      "London\n",
      "\n",
      "Country : UK\n",
      "Population : 9 Million\n",
      "Fact : Capital of UK\n"
     ]
    }
   ],
   "source": [
    "#Question 2\n",
    "cities={\n",
    "    'Karachi':{\"Country\":\"Pakistan\",\"Population\":\"15 Million\",\"Fact\":\"Economical Hub\"},\n",
    "    'New york':{\"Country\":\"United States\",\"Population\":\"19 Millions\",\"Fact\":\"largest city of the US\"},\n",
    "    'London':{\"Country\":\"UK\",\"Population\":\"9 Million\",\"Fact\":\"Capital of UK\"}\n",
    "}\n",
    "for citykey,cityinfo in cities.items():\n",
    "    print(\"\\n\"+citykey+\"\\n\")\n",
    "    for city in cityinfo:\n",
    "        print(city+\" : \"+str(cityinfo[city]))"
   ]
  },
  {
   "cell_type": "code",
   "execution_count": 53,
   "metadata": {},
   "outputs": [
    {
     "name": "stdout",
     "output_type": "stream",
     "text": [
      "what is your age: 18\n",
      "your ticket is $15\n"
     ]
    }
   ],
   "source": [
    "#Question 3\n",
    "while True:\n",
    "    age = int(input(\"what is your age: \"))\n",
    "    if age <=3:\n",
    "        print(\"your ticket is free\")\n",
    "        break\n",
    "    if age >3 and age <=12:\n",
    "        print(\"your ticket is $10\")\n",
    "        break\n",
    "    if age > 12:\n",
    "        print(\"your ticket is $15\")\n",
    "        break"
   ]
  },
  {
   "cell_type": "code",
   "execution_count": 2,
   "metadata": {},
   "outputs": [
    {
     "name": "stdout",
     "output_type": "stream",
     "text": [
      "One of my favourite book is :  Alice in Wonderland\n"
     ]
    }
   ],
   "source": [
    "#Question 4\n",
    "def favorite_book(title):\n",
    "    print(\"One of my favourite book is : \",title)\n",
    "    return None\n",
    "favorite_book('Alice in Wonderland')"
   ]
  },
  {
   "cell_type": "code",
   "execution_count": 3,
   "metadata": {},
   "outputs": [
    {
     "name": "stdout",
     "output_type": "stream",
     "text": [
      "================HINT================\n",
      "try a number between 20 and 30\n",
      "enter your guess: 29\n",
      "your guess is wrong\n",
      "============better luck next time :-)============\n",
      "enter your guess: 25\n",
      "your guess is wrong\n",
      "============better luck next time :-)============\n",
      "enter your guess: 22\n",
      "your guess is wrong\n",
      "============better luck next time :-)============\n"
     ]
    }
   ],
   "source": [
    "#Question 5\n",
    "import random\n",
    "a=random.randint(1,30) #a is the hidden number\n",
    "print(\"================HINT================\")\n",
    "if a>= 1 and a < 10:\n",
    "    print(\"try a number between 1 and 10\")\n",
    "elif a >= 10 and a < 20:\n",
    "    print(\"try a number between 10 and 20\")\n",
    "elif a >= 20 and a < 30:\n",
    "    print(\"try a number between 20 and 30\")\n",
    "for i in range(0,3):\n",
    "    user = int(input(\"enter your guess: \"))\n",
    "    if user < 1 or user > 30:\n",
    "        print(\"choose a number between 1 and 30\")\n",
    "    else:\n",
    "        if user == a:\n",
    "            print(\"your guess is right\")\n",
    "            break\n",
    "        else:\n",
    "            print(\"your guess is wrong\")\n",
    "            print(\"============better luck next time :-)============\")\n"
   ]
  }
 ],
 "metadata": {
  "kernelspec": {
   "display_name": "Python 3",
   "language": "python",
   "name": "python3"
  },
  "language_info": {
   "codemirror_mode": {
    "name": "ipython",
    "version": 3
   },
   "file_extension": ".py",
   "mimetype": "text/x-python",
   "name": "python",
   "nbconvert_exporter": "python",
   "pygments_lexer": "ipython3",
   "version": "3.7.4"
  }
 },
 "nbformat": 4,
 "nbformat_minor": 2
}
